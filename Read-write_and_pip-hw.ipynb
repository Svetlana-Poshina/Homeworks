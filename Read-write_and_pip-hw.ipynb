{
 "cells": [
  {
   "cell_type": "markdown",
   "metadata": {},
   "source": [
    "Домашнее задание\n",
    "1.Переведите содержимое файла purchase_log.txt в словарь purchases вида:\n",
    "{'1840e0b9d4': 'Продукты', ...}\n",
    "\n",
    "2.Для каждого user_id в файле visit_log.csv добавьте третий столбец с категорией покупки (если покупка была).\n",
    "\n",
    "3.Запишите в файл funnel.csv визиты из файла visit_log.csv, в которых были покупки с указанием категории.\n",
    "\n",
    "Учтите условия на данные:\n",
    "\n",
    "содержимое purchase_log.txt помещается в оперативную память компьютера\n",
    "содержимое visit_log.csv - нет; используйте только построчную обработку этого файла"
   ]
  },
  {
   "cell_type": "code",
   "execution_count": null,
   "metadata": {},
   "outputs": [],
   "source": [
    "# i = 0\n",
    "purchases = {}\n",
    "with open('purchase_log.txt', 'r', encoding = 'utf-8') as f:\n",
    "    for line in f:\n",
    "        line = line.strip()\n",
    "        dict_line = json.loads(line)\n",
    "        purchases[dict_line['user_id']] = dict_line['category']\n",
    "#         i += 1\n",
    "#         if i > 15:\n",
    "#             break\n",
    "    del(purchases['user_id'])        \n",
    "    print(purchases)"
   ]
  },
  {
   "cell_type": "code",
   "execution_count": null,
   "metadata": {},
   "outputs": [],
   "source": [
    "with open('visit_log.csv', 'r', encoding = 'utf-8') as vl:\n",
    "    with open('visit_log_purch.csv', 'w', encoding = 'utf-8') as res_f:\n",
    "        header = vl.readline()\n",
    "        res_f.write(header.strip() + ',category\\n')\n",
    "        \n",
    "        for line in vl:\n",
    "            line_one = line.strip().split(',')\n",
    "           \n",
    "            if purchases.get(line_one[0]) != None:\n",
    "                line_one.append(purchases.get(line_one[0]))\n",
    "\n",
    "            res_f.write(f\"{','.join(line_one)}\\n\")    "
   ]
  },
  {
   "cell_type": "code",
   "execution_count": null,
   "metadata": {},
   "outputs": [],
   "source": [
    "with open('visit_log.csv', 'r', encoding = 'utf-8') as vl:\n",
    "    with open('funnel.csv', 'w', encoding = 'utf-8') as fu:\n",
    "        header = vl.readline()\n",
    "        fu.write(header.strip() + ',category\\n')\n",
    "        \n",
    "        for line in vl:\n",
    "            line_one = line.strip().split(',')\n",
    "           \n",
    "            if purchases.get(line_one[0]) != None:\n",
    "                line_one.append(purchases.get(line_one[0]))\n",
    "            else:\n",
    "                continue\n",
    "    \n",
    "            fu.write(f\"{','.join(line_one)}\\n\")    "
   ]
  }
 ],
 "metadata": {
  "kernelspec": {
   "display_name": "Python 3",
   "language": "python",
   "name": "python3"
  },
  "language_info": {
   "codemirror_mode": {
    "name": "ipython",
    "version": 3
   },
   "file_extension": ".py",
   "mimetype": "text/x-python",
   "name": "python",
   "nbconvert_exporter": "python",
   "pygments_lexer": "ipython3",
   "version": "3.7.4"
  }
 },
 "nbformat": 4,
 "nbformat_minor": 2
}

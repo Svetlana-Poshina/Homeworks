{
 "cells": [
  {
   "cell_type": "markdown",
   "metadata": {},
   "source": [
    "Вы работаете секретарем и вам постоянно приходят различные документы. Вы должны быть очень внимательны, чтобы не потерять ни один документ. Каталог документов хранится в следующем виде:"
   ]
  },
  {
   "cell_type": "code",
   "execution_count": 4,
   "metadata": {},
   "outputs": [],
   "source": [
    "documents = [\n",
    "    {'type': 'passport', 'number': '2207 876234', 'name': 'Василий Гупкин'},\n",
    "    {'type': 'invoice', 'number': '11-2', 'name': 'Геннадий Покемонов'},\n",
    "    {'type': 'insurance', 'number': '10006', 'name': 'Аристарх Павлов'}\n",
    "]"
   ]
  },
  {
   "cell_type": "markdown",
   "metadata": {},
   "source": [
    "Перечень полок, на которых находятся документы хранится в следующем виде:"
   ]
  },
  {
   "cell_type": "code",
   "execution_count": 5,
   "metadata": {},
   "outputs": [],
   "source": [
    "directories = {\n",
    "    '1': ['2207 876234', '11-2'],\n",
    "    '2': ['10006'],\n",
    "    '3': []\n",
    "}"
   ]
  },
  {
   "cell_type": "markdown",
   "metadata": {},
   "source": [
    "Необходимо реализовать пользовательские команды (внимание! это не название функций, которые должны быть выразительными, а команды, которые вводит пользователь, чтобы получить необходимый результат):\n",
    "  \n",
    "- p – people – команда, которая спросит номер документа и выведет имя человека, которому он принадлежит;  \n",
    "- s – shelf – команда, которая спросит номер документа и выведет номер полки, на которой он находится  \n",
    "Правильно обработайте ситуацию, когда пользователь будет вводить несуществующий документ.\n",
    "- l – list – команда, которая выведет список всех документов в формате   \n",
    "**passport \"2207 876234\" \"Василий Гупкин\"**  \n",
    "- as – add shelf – команда, которая спросит номер новой полки и добавит ее в перечень\n",
    "- d – delete – команда, которая спросит номер документа и удалит его из каталога и из перечня полок. Предусмотрите сценарий, когда пользователь вводит несуществующий документ;  \n",
    "- m – move – команда, которая спросит номер документа и целевую полку и переместит его с текущей полки на целевую. Корректно обработайте кейсы, когда пользователь пытается переместить несуществующий документ или переместить документ на несуществующую полку;  \n",
    "- a – add – команда, которая добавит новый документ в каталог и в перечень полок, спросив его номер, тип, имя владельца и номер полки, на котором он будет храниться."
   ]
  },
  {
   "cell_type": "code",
   "execution_count": null,
   "metadata": {},
   "outputs": [],
   "source": [
    "def name_as_in_id(documents):\n",
    "    user_input = input('Введите номер документа:')\n",
    "    for line in documents:\n",
    "        if user_input in line['number']:\n",
    "            return line['name']\n",
    "    return 'Несуществующий номер документа'\n",
    "name_as_in_id(documents)"
   ]
  },
  {
   "cell_type": "code",
   "execution_count": null,
   "metadata": {},
   "outputs": [],
   "source": [
    "def id_as_on_shelf(directories):\n",
    "    user_input = input('Введите номер документа:')\n",
    "    for num_of_shelf, list_of_id in directories.items():\n",
    "        if user_input in list_of_id:\n",
    "            return num_of_shelf\n",
    "    return 'Несуществующий номер документа'\n",
    "id_as_on_shelf(directories)"
   ]
  },
  {
   "cell_type": "code",
   "execution_count": null,
   "metadata": {},
   "outputs": [],
   "source": [
    "def lists_of_doc(documents):\n",
    "    for line in documents:\n",
    "        print(' '.join(list(line.values())))\n",
    "lists_of_doc(documents)"
   ]
  },
  {
   "cell_type": "code",
   "execution_count": null,
   "metadata": {},
   "outputs": [],
   "source": [
    "def add_shelf(directories):\n",
    "    new_shelf = input('Введите номер новой полки:')\n",
    "    if new_shelf not in directories.keys():\n",
    "        directories[new_shelf] = []\n",
    "add_shelf(directories)\n",
    "# print(directories)"
   ]
  },
  {
   "cell_type": "code",
   "execution_count": null,
   "metadata": {},
   "outputs": [],
   "source": [
    "def del_of_id(user_input):\n",
    "    user_input = input('Введите номер документа:') \n",
    "    for line in documents:\n",
    "        if user_input in line['number']:\n",
    "            documents.remove(line)\n",
    "    for list_of_id in directories.values():\n",
    "        if user_input in list_of_id:\n",
    "                list_of_id.remove(user_input)\n",
    "del_of_id(documents)\n",
    "print(documents)\n",
    "print(directories)"
   ]
  },
  {
   "cell_type": "code",
   "execution_count": null,
   "metadata": {},
   "outputs": [],
   "source": [
    "def id_on_shelf(user_input):\n",
    "    \"\"\"\n",
    "    Проверка на существование номера документа на полке\n",
    "    \"\"\"\n",
    "    for list_of_id in directories.values():\n",
    "        if user_input in list_of_id:\n",
    "            return True\n",
    "    return False   \n",
    "id_on_shelf(user_input)"
   ]
  },
  {
   "cell_type": "code",
   "execution_count": null,
   "metadata": {},
   "outputs": [],
   "source": [
    "def move_id(directories):\n",
    "    user_input = input('Введите номер документа:')\n",
    "    rem_shelf = input('Введите номер новой полки:')\n",
    "    for list_of_id in directories.values():\n",
    "        if id_on_shelf(user_input) and rem_shelf in directories.keys():\n",
    "            if user_input in list_of_id:\n",
    "                list_of_id.remove(user_input)\n",
    "                directories[rem_shelf].append(user_input)\n",
    "        else:\n",
    "            print('Ошибка ввода!')\n",
    "            break\n",
    "move_id(directories)          \n",
    "# print(directories)"
   ]
  },
  {
   "cell_type": "code",
   "execution_count": null,
   "metadata": {},
   "outputs": [],
   "source": [
    "def add_doc(user_input):\n",
    "    user_input = input('Введите номер документа:')\n",
    "    type_of_doc = input('Введите тип документа:')\n",
    "    full_name = input('Введите имя владельца документа:')\n",
    "    num_of_shelf = input('Введите номер полки:')\n",
    "    documents.append({'type': type_of_doc, 'number': user_input, 'name': full_name})\n",
    "    directories[num_of_shelf].append(user_input)\n",
    "add_doc(documents)\n",
    "print(documents)\n",
    "print(directories)"
   ]
  },
  {
   "cell_type": "code",
   "execution_count": null,
   "metadata": {},
   "outputs": [],
   "source": [
    "def main():\n",
    "    while True:\n",
    "        user_input = input('Введите команду')\n",
    "        if user_input == 'p':\n",
    "            name_as_in_id(documents)\n",
    "        elif user_input == 's':\n",
    "            id_as_on_shelf(directories)\n",
    "        elif user_input == 'l':\n",
    "            lists_of_doc(documents)\n",
    "        elif user_input == 'as':\n",
    "            add_shelf(directories)\n",
    "        elif user_input == 'd':\n",
    "            del_of_id(documents)\n",
    "        elif user_input == 'm':\n",
    "             move_id(directories) \n",
    "        elif user_input == 'd':\n",
    "            add_doc(documents)\n",
    "            break\n",
    "            \n",
    "main()        "
   ]
  }
 ],
 "metadata": {
  "kernelspec": {
   "display_name": "Python 3",
   "language": "python",
   "name": "python3"
  },
  "language_info": {
   "codemirror_mode": {
    "name": "ipython",
    "version": 3
   },
   "file_extension": ".py",
   "mimetype": "text/x-python",
   "name": "python",
   "nbconvert_exporter": "python",
   "pygments_lexer": "ipython3",
   "version": "3.7.4"
  }
 },
 "nbformat": 4,
 "nbformat_minor": 2
}

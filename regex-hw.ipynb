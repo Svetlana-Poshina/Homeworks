{
 "cells": [
  {
   "cell_type": "markdown",
   "metadata": {},
   "source": [
    "**Задание 1.** Напишите функцию, которая принимает на вход строку и проверяет является ли она валидным транспортным номером. Если да, то функция должна возвращать отдельно номер и регион."
   ]
  },
  {
   "cell_type": "code",
   "execution_count": 7,
   "metadata": {},
   "outputs": [],
   "source": [
    "import re"
   ]
  },
  {
   "cell_type": "code",
   "execution_count": null,
   "metadata": {},
   "outputs": [],
   "source": [
    "num_of_car = input('Введите номер машины:')\n",
    "if len(num_of_car) > 9:\n",
    "    print('Ошибка ввода!')\n",
    "else:\n",
    "    if re.match('[АВЕКМНОРСТУХABEKMHOPCTYX][0-9]{3}[АВЕКМНОРСТУABEKMHOPCTYX]{2}[0-9]{3}', num_of_car):\n",
    "        print(num_of_car[1:4], num_of_car[6:])\n",
    "    else:\n",
    "        print('Ошибка ввода!')"
   ]
  },
  {
   "cell_type": "markdown",
   "metadata": {},
   "source": [
    "**Задание 2**. Напишите функцию, которая проверяет e-mail адрес на валидность по стандарту RFC822: http://www.w3.org/Protocols/rfc822/. Для этого постарайтесь написать (в крайнем случае найти) самый полный шаблон для проверки e-mail адресов через регулярное выражение. Разберитесь и напишите примеры, какие ваш шаблон может не охватить."
   ]
  },
  {
   "cell_type": "code",
   "execution_count": null,
   "metadata": {},
   "outputs": [],
   "source": [
    "def valid_address():\n",
    "    address = input('Введите свой email:')\n",
    "    pattern = r'(^|\\s)[-a-zA-Z0-9_.]+@([-a-zA-Z0-9]+\\.)+[a-z]{2,6}(\\s|$)'\n",
    "    val_address = re.compile(pattern)\n",
    "#   Попыталась ввести проверку на наличие точек подряд или окончание адреса точкой, но не получается(не пойму, где ошибка)\n",
    "#     if address.endswith([\\.]) and re findall([\\.]{2}, address):\n",
    "#         return 'Ошибка ввода!'\n",
    "#     else:\n",
    "    \n",
    "    if val_address.match(address):\n",
    "        return address\n",
    "    else:\n",
    "        return 'Ошибка ввода!'\n",
    "\n",
    "valid_address()\n"
   ]
  },
  {
   "cell_type": "markdown",
   "metadata": {},
   "source": [
    "**Задание 3.** Напишите функцию, которая будет удалять все последовательные повторы слов из заданной строки при помощи регулярных выражений."
   ]
  },
  {
   "cell_type": "code",
   "execution_count": null,
   "metadata": {},
   "outputs": [],
   "source": [
    "# удаляет только рядом стоящие слова (последовательные повторы)\n",
    "words = 'понедельник среда суббота среда четверг суббота суббота'\n",
    "def remove_replays(words):\n",
    "    words_uniq = re.sub(r'([\\w]+)(\\s+\\1)+', r'\\1', words)\n",
    "    return words_uniq\n",
    "remove_replays(words)"
   ]
  },
  {
   "cell_type": "code",
   "execution_count": 2,
   "metadata": {},
   "outputs": [
    {
     "data": {
      "text/plain": [
       "'суббота понедельник среда четверг'"
      ]
     },
     "execution_count": 2,
     "metadata": {},
     "output_type": "execute_result"
    }
   ],
   "source": [
    "# Функция, которая оставляет уникальные слова, но без регулярных выражений\n",
    "words = 'понедельник среда суббота среда четверг суббота суббота'\n",
    "def remove_replays(words):\n",
    "    words = 'понедельник среда суббота среда четверг суббота суббота'\n",
    "    words_uniq = ' '.join(set(words.split(' ')))\n",
    "    return words_uniq\n",
    "remove_replays(words)"
   ]
  },
  {
   "cell_type": "code",
   "execution_count": 9,
   "metadata": {},
   "outputs": [
    {
     "name": "stdout",
     "output_type": "stream",
     "text": [
      "['понедельник', 'среда', 'суббота', 'четверг']\n"
     ]
    }
   ],
   "source": [
    "# Еще одна попытка\n",
    "words = 'понедельник среда суббота среда четверг суббота суббота'\n",
    "word_ = re.findall(r'(\\w+)', words)\n",
    "words_uniq = []\n",
    "for word in word_:\n",
    "    if word not in words_uniq:\n",
    "        words_uniq.append(word)\n",
    "print(words_uniq)\n"
   ]
  },
  {
   "cell_type": "markdown",
   "metadata": {},
   "source": [
    "**Задание 4**. Напишите функцию, которая будет проверять номер сотового телефона на валидность, если он валиден, то переводить его в формат:   \n",
    "+7(xxx)-xxx-xx-xx  \n",
    "Постарайтесь предусмотреть как можно больше адекватных форматов изначального ввода номера.\n",
    "Примеры валидных форматов:\n",
    "- +7 955 555-55-55;\n",
    "- 9555555555;\n",
    "- 8(955)555-55-55;\n",
    "- +7 955 555 55 55;\n",
    "- 7(955) 555-55-55;\n",
    "- +7 955+555+55+55."
   ]
  },
  {
   "cell_type": "code",
   "execution_count": null,
   "metadata": {},
   "outputs": [],
   "source": [
    "def valid_num():\n",
    "    number = input('Введите номер:')\n",
    "    pattern = r'(^|\\s)[\\d\\+.)(-]+(\\s|$)'\n",
    "    val_numb = re.compile(pattern)\n",
    "    changed_number = re.sub(r'[^\\d]', '', number)\n",
    "    if val_numb.match(number) and 9 < len(changed_number) <= 11:\n",
    "        if len(changed_number) > 10:\n",
    "            changed_number = changed_number[1:]\n",
    "           \n",
    "        valid_number = re.sub(r'(\\d\\d\\d)(\\d\\d\\d)(\\d\\d)(\\d\\d)', r'+7(\\1)-\\2-\\3-\\4', changed_number)\n",
    "        return valid_number\n",
    "        \n",
    "    else:\n",
    "        return 'Ошибка ввода!'\n",
    "        \n",
    "valid_num()    "
   ]
  }
 ],
 "metadata": {
  "kernelspec": {
   "display_name": "Python 3",
   "language": "python",
   "name": "python3"
  },
  "language_info": {
   "codemirror_mode": {
    "name": "ipython",
    "version": 3
   },
   "file_extension": ".py",
   "mimetype": "text/x-python",
   "name": "python",
   "nbconvert_exporter": "python",
   "pygments_lexer": "ipython3",
   "version": "3.7.4"
  }
 },
 "nbformat": 4,
 "nbformat_minor": 2
}
